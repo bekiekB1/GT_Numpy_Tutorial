{
  "nbformat": 4,
  "nbformat_minor": 0,
  "metadata": {
    "colab": {
      "name": "Numpy_Beginner",
      "provenance": [],
      "collapsed_sections": [
        "t_ZeWoyRnFL3",
        "aA3JrSHdrAGL"
      ],
      "toc_visible": true
    },
    "kernelspec": {
      "name": "python3",
      "display_name": "Python 3"
    },
    "language_info": {
      "name": "python"
    }
  },
  "cells": [
    {
      "cell_type": "markdown",
      "source": [
        " [Increase Font Source](https://stackoverflow.com/questions/61957742/how-to-increase-font-size-of-google-colab-cell-output#:~:text=You%20can%20change%20the%20stylesheet,30px%20(or%20other%20values).&text=Then%20experiment%20which%20value%20you,30px%20to%20what%20you%20like.&text=Then%20set%20it%20to%20run%20in%20every%20cell%20automatically.)"
      ],
      "metadata": {
        "id": "2gHQO7lx2NaF"
      }
    },
    {
      "cell_type": "code",
      "source": [
        "def increase_font():\n",
        "  from IPython.display import Javascript\n",
        "  display(Javascript('''\n",
        "  for (rule of document.styleSheets[0].cssRules){\n",
        "    if (rule.selectorText=='body') {\n",
        "      rule.style.fontSize = '22px'\n",
        "      break\n",
        "    }  }\n",
        "  '''))\n",
        "  \n",
        "# set it to run in every cell\n",
        "get_ipython().events.register('pre_run_cell', increase_font)\n",
        "# disable\n",
        "# get_ipython().events.unregister('pre_run_cell', increase_font)"
      ],
      "metadata": {
        "id": "4Q9yoxEj1rTs"
      },
      "execution_count": null,
      "outputs": []
    },
    {
      "cell_type": "markdown",
      "source": [
        "install numpy"
      ],
      "metadata": {
        "id": "NfdAN72emhA5"
      }
    },
    {
      "cell_type": "code",
      "execution_count": null,
      "metadata": {
        "id": "_b6hbG0zgTF6",
        "colab": {
          "base_uri": "https://localhost:8080/"
        },
        "outputId": "447df586-4cd2-406f-951a-0964782ec47a"
      },
      "outputs": [
        {
          "output_type": "stream",
          "name": "stdout",
          "text": [
            "Requirement already satisfied: numpy in /usr/local/lib/python3.7/dist-packages (1.21.5)\n"
          ]
        }
      ],
      "source": [
        "pip install numpy"
      ]
    },
    {
      "cell_type": "markdown",
      "source": [
        "Import numpy"
      ],
      "metadata": {
        "id": "QffZi9a5moOJ"
      }
    },
    {
      "cell_type": "code",
      "source": [
        "import numpy as np\n"
      ],
      "metadata": {
        "id": "miDzxpA5gTj0"
      },
      "execution_count": null,
      "outputs": []
    },
    {
      "cell_type": "code",
      "source": [
        "from PIL import Image\n",
        "import matplotlib.pyplot as plt\n"
      ],
      "metadata": {
        "id": "iH5DKw5tghly"
      },
      "execution_count": null,
      "outputs": []
    },
    {
      "cell_type": "markdown",
      "source": [
        "# 1) numpy ndarray vs python list"
      ],
      "metadata": {
        "id": "kZZmXTcRm1ON"
      }
    },
    {
      "cell_type": "markdown",
      "source": [
        "### Task 1: Multiply each of the elements in the list by '2'"
      ],
      "metadata": {
        "id": "t_ZeWoyRnFL3"
      }
    },
    {
      "cell_type": "markdown",
      "source": [
        "Define numpy list and python list"
      ],
      "metadata": {
        "id": "SUZPdJGTqa4z"
      }
    },
    {
      "cell_type": "code",
      "source": [
        "npy_x = np.random.randint(10,size=(1000000,1))#Define a numpy list of size one million with radom integers\n",
        "x = npy_x.tolist()# convert the numpy list to python list\n",
        "print('type of x: ',type(x))\n",
        "print('type of npy_x: ',type(npy_x))"
      ],
      "metadata": {
        "colab": {
          "base_uri": "https://localhost:8080/",
          "height": 72
        },
        "id": "t-29kuWXnZq7",
        "outputId": "f2c242f0-062e-413a-fb09-7ffc5a3b6f38"
      },
      "execution_count": null,
      "outputs": [
        {
          "output_type": "display_data",
          "data": {
            "application/javascript": [
              "\n",
              "  for (rule of document.styleSheets[0].cssRules){\n",
              "    if (rule.selectorText=='body') {\n",
              "      rule.style.fontSize = '22px'\n",
              "      break\n",
              "    }  }\n",
              "  "
            ],
            "text/plain": [
              "<IPython.core.display.Javascript object>"
            ]
          },
          "metadata": {}
        },
        {
          "output_type": "stream",
          "name": "stdout",
          "text": [
            "type of x:  <class 'list'>\n",
            "type of npy_x:  <class 'numpy.ndarray'>\n"
          ]
        }
      ]
    },
    {
      "cell_type": "markdown",
      "source": [
        "Suppose x contains 4 elements instead of 1 million. "
      ],
      "metadata": {
        "id": "X9D00jWd2uJj"
      }
    },
    {
      "cell_type": "markdown",
      "source": [
        "![image.png](data:image/png;base64,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)"
      ],
      "metadata": {
        "id": "iF3h6R8c2nha"
      }
    },
    {
      "cell_type": "markdown",
      "source": [
        "![image.png](data:image/png;base64,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)"
      ],
      "metadata": {
        "id": "8E8AIWEr2qXC"
      }
    },
    {
      "cell_type": "markdown",
      "source": [
        "Evaluate the 'task 1' using python list and record time to compute"
      ],
      "metadata": {
        "id": "W791-rsCqfQs"
      }
    },
    {
      "cell_type": "code",
      "source": [
        "import time\n",
        "t1 = time.perf_counter()\n",
        "\n",
        "result = []\n",
        "for i in range(len(x)):\n",
        "    result.append(x[i]*2)\n",
        "\n",
        "t2 = time.perf_counter()\n",
        "print(f'time taken to run: {(t2-t1)*1000 } milisec')"
      ],
      "metadata": {
        "colab": {
          "base_uri": "https://localhost:8080/",
          "height": 45
        },
        "id": "_pM5yjepkdXc",
        "outputId": "8ed01a12-4b48-4cd5-9bef-f90f28473f1f"
      },
      "execution_count": null,
      "outputs": [
        {
          "output_type": "display_data",
          "data": {
            "application/javascript": [
              "\n",
              "  for (rule of document.styleSheets[0].cssRules){\n",
              "    if (rule.selectorText=='body') {\n",
              "      rule.style.fontSize = '22px'\n",
              "      break\n",
              "    }  }\n",
              "  "
            ],
            "text/plain": [
              "<IPython.core.display.Javascript object>"
            ]
          },
          "metadata": {}
        },
        {
          "output_type": "stream",
          "name": "stdout",
          "text": [
            "time taken to run: 904.0468499999861 milisec\n"
          ]
        }
      ]
    },
    {
      "cell_type": "markdown",
      "source": [
        "Using numpy array"
      ],
      "metadata": {
        "id": "kmhVRkW1oLGW"
      }
    },
    {
      "cell_type": "code",
      "source": [
        "import time\n",
        "t1 = time.perf_counter()\n",
        "\n",
        "npy_result = []\n",
        "npy_result = npy_x * 2\n",
        "\n",
        "t2 = time.perf_counter()\n",
        "print(f'time taken to run: {(t2-t1)*1000 } milisec')\n",
        "print(npy_result)"
      ],
      "metadata": {
        "colab": {
          "base_uri": "https://localhost:8080/",
          "height": 239
        },
        "id": "hHBU2zqan5rW",
        "outputId": "772d2f1c-a166-4ec6-d381-d225d57b802a"
      },
      "execution_count": null,
      "outputs": [
        {
          "output_type": "display_data",
          "data": {
            "application/javascript": [
              "\n",
              "  for (rule of document.styleSheets[0].cssRules){\n",
              "    if (rule.selectorText=='body') {\n",
              "      rule.style.fontSize = '22px'\n",
              "      break\n",
              "    }  }\n",
              "  "
            ],
            "text/plain": [
              "<IPython.core.display.Javascript object>"
            ]
          },
          "metadata": {}
        },
        {
          "output_type": "stream",
          "name": "stdout",
          "text": [
            "time taken to run: 3.6247919999823353 milisec\n",
            "[[ 6]\n",
            " [14]\n",
            " [ 4]\n",
            " ...\n",
            " [12]\n",
            " [ 0]\n",
            " [ 0]]\n"
          ]
        }
      ]
    },
    {
      "cell_type": "markdown",
      "source": [
        "### Task 2: ndarray object is Homogenous datatype "
      ],
      "metadata": {
        "id": "aA3JrSHdrAGL"
      }
    },
    {
      "cell_type": "markdown",
      "source": [
        "**What is n-dimensional object?**"
      ],
      "metadata": {
        "id": "thcyLeLPHlwg"
      }
    },
    {
      "cell_type": "code",
      "source": [
        "one_d = [-1,4,0,-2,6]#each element can be index by tuple of length 1.For eg: (2)\n",
        "two_d = [[1,2],[3,4],[5,6]]#similarly need tuple of length 2. For eg: (1,2)\n",
        "three_d = [[[1,2],[3,4]],[[5,6],[7,8]]]# For 3d we need tuple of length 3. For eg: (0,1,1)"
      ],
      "metadata": {
        "id": "v3WGmlytF_uf"
      },
      "execution_count": null,
      "outputs": []
    },
    {
      "cell_type": "markdown",
      "source": [
        "\n",
        "$$\n",
        "\\left[\\begin{array}{ll}\n",
        "1_{0,0} & 2_{0,1} \\\\\n",
        "3_{1,0} & 4_{1,1} \\\\\n",
        "5_{2,0} & 6_{2,1}\n",
        "\\end{array}\\right]\n",
        "$$"
      ],
      "metadata": {
        "id": "3e9AvWRcTUDF"
      }
    },
    {
      "cell_type": "code",
      "source": [
        "for i in range(len(two_d)):\n",
        "  for j in range(len(two_d[i])):\n",
        "    print(f'Element at Index ({i},{j}) : {two_d[i][j]}')"
      ],
      "metadata": {
        "colab": {
          "base_uri": "https://localhost:8080/",
          "height": 183
        },
        "id": "Ir4Rc7S0Sml1",
        "outputId": "a14e9274-c259-4e67-a16a-0decc66506d5"
      },
      "execution_count": null,
      "outputs": [
        {
          "output_type": "display_data",
          "data": {
            "application/javascript": [
              "\n",
              "  for (rule of document.styleSheets[0].cssRules){\n",
              "    if (rule.selectorText=='body') {\n",
              "      rule.style.fontSize = '22px'\n",
              "      break\n",
              "    }\n",
              "  }\n",
              "  "
            ],
            "text/plain": [
              "<IPython.core.display.Javascript object>"
            ]
          },
          "metadata": {}
        },
        {
          "output_type": "stream",
          "name": "stdout",
          "text": [
            "Element at Index (0,0) : 1\n",
            "Element at Index (0,1) : 2\n",
            "Element at Index (1,0) : 3\n",
            "Element at Index (1,1) : 4\n",
            "Element at Index (2,0) : 5\n",
            "Element at Index (2,1) : 6\n"
          ]
        }
      ]
    },
    {
      "cell_type": "code",
      "source": [
        "print(f'Python list visually(3d):\\n {three_d}\\n\\nNumpy array visually(3d):\\n {np.array(three_d)}')"
      ],
      "metadata": {
        "colab": {
          "base_uri": "https://localhost:8080/",
          "height": 267
        },
        "id": "YBd8ZU61Rldj",
        "outputId": "d4875aa5-20af-4ab0-be80-cd2e215a49d6"
      },
      "execution_count": null,
      "outputs": [
        {
          "output_type": "display_data",
          "data": {
            "application/javascript": [
              "\n",
              "  for (rule of document.styleSheets[0].cssRules){\n",
              "    if (rule.selectorText=='body') {\n",
              "      rule.style.fontSize = '22px'\n",
              "      break\n",
              "    }\n",
              "  }\n",
              "  "
            ],
            "text/plain": [
              "<IPython.core.display.Javascript object>"
            ]
          },
          "metadata": {}
        },
        {
          "output_type": "stream",
          "name": "stdout",
          "text": [
            "Python list visually(3d):\n",
            " [[[1, 2], [3, 4]], [[5, 6], [7, 8]]]\n",
            "\n",
            "Numpy array visually(3d):\n",
            " [[[1 2]\n",
            "  [3 4]]\n",
            "\n",
            " [[5 6]\n",
            "  [7 8]]]\n"
          ]
        }
      ]
    },
    {
      "cell_type": "markdown",
      "source": [
        "Function to print elements along with its type"
      ],
      "metadata": {
        "id": "NWy-zufotx7r"
      }
    },
    {
      "cell_type": "code",
      "source": [
        "def print_type(lst):\n",
        "  print('Element\\t','Type')\n",
        "  for item in lst: \n",
        "    print('{}        {}'.format(item, type(item)))"
      ],
      "metadata": {
        "id": "LgsQCH4wtP5k",
        "colab": {
          "base_uri": "https://localhost:8080/",
          "height": 17
        },
        "outputId": "8bbb52e6-c8e0-499d-9617-94b0c1a611a2"
      },
      "execution_count": null,
      "outputs": [
        {
          "output_type": "display_data",
          "data": {
            "application/javascript": [
              "\n",
              "  for (rule of document.styleSheets[0].cssRules){\n",
              "    if (rule.selectorText=='body') {\n",
              "      rule.style.fontSize = '22px'\n",
              "      break\n",
              "    }\n",
              "  }\n",
              "  "
            ],
            "text/plain": [
              "<IPython.core.display.Javascript object>"
            ]
          },
          "metadata": {}
        }
      ]
    },
    {
      "cell_type": "code",
      "source": [
        "#define a python list\n",
        "\n",
        "x = [1,2,'a',1.2]\n",
        "print(x)\n",
        "\n",
        "print_type(x)"
      ],
      "metadata": {
        "colab": {
          "base_uri": "https://localhost:8080/",
          "height": 183
        },
        "id": "87-xC1XorJhL",
        "outputId": "039ab127-db07-4ded-bebc-11f3ce4dd863"
      },
      "execution_count": null,
      "outputs": [
        {
          "output_type": "display_data",
          "data": {
            "application/javascript": [
              "\n",
              "  for (rule of document.styleSheets[0].cssRules){\n",
              "    if (rule.selectorText=='body') {\n",
              "      rule.style.fontSize = '22px'\n",
              "      break\n",
              "    }\n",
              "  }\n",
              "  "
            ],
            "text/plain": [
              "<IPython.core.display.Javascript object>"
            ]
          },
          "metadata": {}
        },
        {
          "output_type": "stream",
          "name": "stdout",
          "text": [
            "[1, 2, 'a', 1.2]\n",
            "Element\t Type\n",
            "1        <class 'int'>\n",
            "2        <class 'int'>\n",
            "a        <class 'str'>\n",
            "1.2        <class 'float'>\n"
          ]
        }
      ]
    },
    {
      "cell_type": "code",
      "source": [
        "#define numpy list\n",
        "x =np.array([1,2,'x'])#minimum type required to \n",
        "                      #hold the objects in the sequence is str\n",
        "print(x)\n",
        "print_type(x)"
      ],
      "metadata": {
        "colab": {
          "base_uri": "https://localhost:8080/",
          "height": 156
        },
        "id": "2Uqk7v3eoe5z",
        "outputId": "c6743cd3-dc1b-4f1b-ec15-e7f8bd7d54fe"
      },
      "execution_count": null,
      "outputs": [
        {
          "output_type": "display_data",
          "data": {
            "application/javascript": [
              "\n",
              "  for (rule of document.styleSheets[0].cssRules){\n",
              "    if (rule.selectorText=='body') {\n",
              "      rule.style.fontSize = '22px'\n",
              "      break\n",
              "    }\n",
              "  }\n",
              "  "
            ],
            "text/plain": [
              "<IPython.core.display.Javascript object>"
            ]
          },
          "metadata": {}
        },
        {
          "output_type": "stream",
          "name": "stdout",
          "text": [
            "['1' '2' 'x']\n",
            "Element\t Type\n",
            "1        <class 'numpy.str_'>\n",
            "2        <class 'numpy.str_'>\n",
            "x        <class 'numpy.str_'>\n"
          ]
        }
      ]
    },
    {
      "cell_type": "code",
      "source": [
        "#define numpy list\n",
        "x = np.array([1,2,1.2])\n",
        "print(x)\n",
        "print_type(x)"
      ],
      "metadata": {
        "colab": {
          "base_uri": "https://localhost:8080/",
          "height": 156
        },
        "id": "oBnsnlh8rrlh",
        "outputId": "9ed0e172-0f62-45b5-8090-ff51ebe0f5d6"
      },
      "execution_count": null,
      "outputs": [
        {
          "output_type": "display_data",
          "data": {
            "application/javascript": [
              "\n",
              "  for (rule of document.styleSheets[0].cssRules){\n",
              "    if (rule.selectorText=='body') {\n",
              "      rule.style.fontSize = '22px'\n",
              "      break\n",
              "    }\n",
              "  }\n",
              "  "
            ],
            "text/plain": [
              "<IPython.core.display.Javascript object>"
            ]
          },
          "metadata": {}
        },
        {
          "output_type": "stream",
          "name": "stdout",
          "text": [
            "[1.  2.  1.2]\n",
            "Element\t Type\n",
            "1.0        <class 'numpy.float64'>\n",
            "2.0        <class 'numpy.float64'>\n",
            "1.2        <class 'numpy.float64'>\n"
          ]
        }
      ]
    },
    {
      "cell_type": "code",
      "source": [
        "x = np.array([1,'2',1.2],dtype=float)\n",
        "print(x)\n",
        "print_type(x)"
      ],
      "metadata": {
        "id": "RRMQXt-4r7X-",
        "colab": {
          "base_uri": "https://localhost:8080/",
          "height": 156
        },
        "outputId": "be07358c-046a-41d8-f5a9-f4968b03283d"
      },
      "execution_count": null,
      "outputs": [
        {
          "output_type": "display_data",
          "data": {
            "application/javascript": [
              "\n",
              "  for (rule of document.styleSheets[0].cssRules){\n",
              "    if (rule.selectorText=='body') {\n",
              "      rule.style.fontSize = '22px'\n",
              "      break\n",
              "    }\n",
              "  }\n",
              "  "
            ],
            "text/plain": [
              "<IPython.core.display.Javascript object>"
            ]
          },
          "metadata": {}
        },
        {
          "output_type": "stream",
          "name": "stdout",
          "text": [
            "[1.  2.  1.2]\n",
            "Element\t Type\n",
            "1.0        <class 'numpy.float64'>\n",
            "2.0        <class 'numpy.float64'>\n",
            "1.2        <class 'numpy.float64'>\n"
          ]
        }
      ]
    },
    {
      "cell_type": "markdown",
      "source": [
        ""
      ],
      "metadata": {
        "id": "nvJ7u7Tbt81Q"
      }
    },
    {
      "cell_type": "markdown",
      "source": [
        "# 2) Initialization "
      ],
      "metadata": {
        "id": "slTAS8pOyqTH"
      }
    },
    {
      "cell_type": "code",
      "source": [
        "#intialize directly\n",
        "npy_x = np.array([1,2,3])\n",
        "print(npy_x,type(npy_x))"
      ],
      "metadata": {
        "colab": {
          "base_uri": "https://localhost:8080/",
          "height": 45
        },
        "id": "tzZC1_zfy2hQ",
        "outputId": "4a738625-e3ae-4192-9bf7-80a3c48954a6"
      },
      "execution_count": null,
      "outputs": [
        {
          "output_type": "display_data",
          "data": {
            "application/javascript": [
              "\n",
              "  for (rule of document.styleSheets[0].cssRules){\n",
              "    if (rule.selectorText=='body') {\n",
              "      rule.style.fontSize = '22px'\n",
              "      break\n",
              "    }  }\n",
              "  "
            ],
            "text/plain": [
              "<IPython.core.display.Javascript object>"
            ]
          },
          "metadata": {}
        },
        {
          "output_type": "stream",
          "name": "stdout",
          "text": [
            "[1 2 3] <class 'numpy.ndarray'>\n"
          ]
        }
      ]
    },
    {
      "cell_type": "code",
      "source": [
        "#Initialize with a variable\n",
        "var_a = [1,2,3,4]\n",
        "npy_x = np.array(var_a)\n",
        "\n",
        "print(f'Intialize With variable: {npy_x}')\n",
        "\n",
        "#Intialize with a datatype\n",
        "npy_x = np.array(var_a,dtype=np.float)\n",
        "\n",
        "print(f'Variable var_a with Float datatype: {npy_x}')\n"
      ],
      "metadata": {
        "colab": {
          "base_uri": "https://localhost:8080/",
          "height": 72
        },
        "id": "CFPjU4Xfy2Ui",
        "outputId": "b16e177e-b1d6-4bfc-bdea-e4ccbfd2fedb"
      },
      "execution_count": null,
      "outputs": [
        {
          "output_type": "display_data",
          "data": {
            "application/javascript": [
              "\n",
              "  for (rule of document.styleSheets[0].cssRules){\n",
              "    if (rule.selectorText=='body') {\n",
              "      rule.style.fontSize = '30px'\n",
              "      break\n",
              "    }\n",
              "  }\n",
              "  "
            ],
            "text/plain": [
              "<IPython.core.display.Javascript object>"
            ]
          },
          "metadata": {}
        },
        {
          "output_type": "display_data",
          "data": {
            "application/javascript": [
              "\n",
              "  for (rule of document.styleSheets[0].cssRules){\n",
              "    if (rule.selectorText=='body') {\n",
              "      rule.style.fontSize = '25px'\n",
              "      break\n",
              "    }\n",
              "  }\n",
              "  "
            ],
            "text/plain": [
              "<IPython.core.display.Javascript object>"
            ]
          },
          "metadata": {}
        },
        {
          "output_type": "display_data",
          "data": {
            "application/javascript": [
              "\n",
              "  for (rule of document.styleSheets[0].cssRules){\n",
              "    if (rule.selectorText=='body') {\n",
              "      rule.style.fontSize = '22px'\n",
              "      break\n",
              "    }\n",
              "  }\n",
              "  "
            ],
            "text/plain": [
              "<IPython.core.display.Javascript object>"
            ]
          },
          "metadata": {}
        },
        {
          "output_type": "display_data",
          "data": {
            "application/javascript": [
              "\n",
              "  for (rule of document.styleSheets[0].cssRules){\n",
              "    if (rule.selectorText=='body') {\n",
              "      rule.style.fontSize = '22px'\n",
              "      break\n",
              "    }\n",
              "  }\n",
              "  "
            ],
            "text/plain": [
              "<IPython.core.display.Javascript object>"
            ]
          },
          "metadata": {}
        },
        {
          "output_type": "stream",
          "name": "stdout",
          "text": [
            "Intialize With variable: [1 2 3 4]\n",
            "Variable var_a with Float datatype: [1. 2. 3. 4.]\n"
          ]
        }
      ]
    },
    {
      "cell_type": "code",
      "source": [
        "np.array([[1,2,4],[3,4]])"
      ],
      "metadata": {
        "colab": {
          "base_uri": "https://localhost:8080/",
          "height": 120
        },
        "id": "bhKONG9mAAnM",
        "outputId": "f3e0ce3b-1ef2-4afc-de64-7cf4129dc295"
      },
      "execution_count": null,
      "outputs": [
        {
          "output_type": "display_data",
          "data": {
            "application/javascript": [
              "\n",
              "  for (rule of document.styleSheets[0].cssRules){\n",
              "    if (rule.selectorText=='body') {\n",
              "      rule.style.fontSize = '22px'\n",
              "      break\n",
              "    }  }\n",
              "  "
            ],
            "text/plain": [
              "<IPython.core.display.Javascript object>"
            ]
          },
          "metadata": {}
        },
        {
          "output_type": "stream",
          "name": "stderr",
          "text": [
            "/usr/local/lib/python3.7/dist-packages/ipykernel_launcher.py:1: VisibleDeprecationWarning: Creating an ndarray from ragged nested sequences (which is a list-or-tuple of lists-or-tuples-or ndarrays with different lengths or shapes) is deprecated. If you meant to do this, you must specify 'dtype=object' when creating the ndarray.\n",
            "  \"\"\"Entry point for launching an IPython kernel.\n"
          ]
        },
        {
          "output_type": "execute_result",
          "data": {
            "text/plain": [
              "array([list([1, 2, 4]), list([3, 4])], dtype=object)"
            ]
          },
          "metadata": {},
          "execution_count": 4
        }
      ]
    },
    {
      "cell_type": "code",
      "source": [
        "#Initialize ndarray\n",
        "npy_x = np.array([[1,2],[3,4]])#directly\n",
        "npy_x_alt = np.array(np.mat('1 2; 3 4'))#Alternatively \n",
        "\n",
        "print(f'Initalize ndarray(directly): \\n{npy_x}\\nWith np.mat,\\n{npy_x_alt}')"
      ],
      "metadata": {
        "colab": {
          "base_uri": "https://localhost:8080/",
          "height": 183
        },
        "id": "SwbIG8j2yut-",
        "outputId": "2d7ea081-0f43-476f-8278-9c53483b48ad"
      },
      "execution_count": null,
      "outputs": [
        {
          "output_type": "display_data",
          "data": {
            "application/javascript": [
              "\n",
              "  for (rule of document.styleSheets[0].cssRules){\n",
              "    if (rule.selectorText=='body') {\n",
              "      rule.style.fontSize = '22px'\n",
              "      break\n",
              "    }  }\n",
              "  "
            ],
            "text/plain": [
              "<IPython.core.display.Javascript object>"
            ]
          },
          "metadata": {}
        },
        {
          "output_type": "stream",
          "name": "stdout",
          "text": [
            "Initalize ndarray(directly): \n",
            "[[1 2]\n",
            " [3 4]]\n",
            "With np.mat,\n",
            "[[1 2]\n",
            " [3 4]]\n"
          ]
        }
      ]
    },
    {
      "cell_type": "markdown",
      "source": [
        "Initialize through a Image"
      ],
      "metadata": {
        "id": "Zm79d7slF25m"
      }
    },
    {
      "cell_type": "code",
      "source": [
        "#Download a image from web\n",
        "!wget -c https://upload.wikimedia.org/wikipedia/commons/thumb/3/31/NumPy_logo_2020.svg/1200px-NumPy_logo_2020.svg.png -O numpy_img.jpg"
      ],
      "metadata": {
        "id": "NlbHB5_zFx5d",
        "colab": {
          "base_uri": "https://localhost:8080/",
          "height": 343
        },
        "outputId": "47db4101-3df2-48f4-a667-4fd94b1832ad"
      },
      "execution_count": null,
      "outputs": [
        {
          "output_type": "display_data",
          "data": {
            "application/javascript": [
              "\n",
              "  for (rule of document.styleSheets[0].cssRules){\n",
              "    if (rule.selectorText=='body') {\n",
              "      rule.style.fontSize = '22px'\n",
              "      break\n",
              "    }  }\n",
              "  "
            ],
            "text/plain": [
              "<IPython.core.display.Javascript object>"
            ]
          },
          "metadata": {}
        },
        {
          "output_type": "stream",
          "name": "stdout",
          "text": [
            "--2022-03-03 18:53:18--  https://upload.wikimedia.org/wikipedia/commons/thumb/3/31/NumPy_logo_2020.svg/1200px-NumPy_logo_2020.svg.png\n",
            "Resolving upload.wikimedia.org (upload.wikimedia.org)... 103.102.166.240, 2001:df2:e500:ed1a::2:b\n",
            "Connecting to upload.wikimedia.org (upload.wikimedia.org)|103.102.166.240|:443... connected.\n",
            "HTTP request sent, awaiting response... 200 OK\n",
            "Length: 28415 (28K) [image/png]\n",
            "Saving to: ‘numpy_img.jpg’\n",
            "\n",
            "numpy_img.jpg       100%[===================>]  27.75K  --.-KB/s    in 0.05s   \n",
            "\n",
            "2022-03-03 18:53:19 (583 KB/s) - ‘numpy_img.jpg’ saved [28415/28415]\n",
            "\n"
          ]
        }
      ]
    },
    {
      "cell_type": "code",
      "source": [
        "from PIL import Image\n",
        "import matplotlib.pyplot as plt\n",
        "\n",
        "#get the downloaded image\n",
        "def get_image():\n",
        "  im = Image.open('/content/numpy_img.jpg').convert('RGB')#Converted from CMYK to RGB\n",
        "  show_image(im)\n",
        "  return im\n",
        "\n",
        "#Display image\n",
        "def show_image(img):\n",
        "  plt.imshow(img)"
      ],
      "metadata": {
        "id": "Yt0F4xMT3VPt",
        "colab": {
          "base_uri": "https://localhost:8080/",
          "height": 17
        },
        "outputId": "cc59ece3-d055-4aa5-b752-ae4e212f0a3d"
      },
      "execution_count": null,
      "outputs": [
        {
          "output_type": "display_data",
          "data": {
            "application/javascript": [
              "\n",
              "  for (rule of document.styleSheets[0].cssRules){\n",
              "    if (rule.selectorText=='body') {\n",
              "      rule.style.fontSize = '22px'\n",
              "      break\n",
              "    }  }\n",
              "  "
            ],
            "text/plain": [
              "<IPython.core.display.Javascript object>"
            ]
          },
          "metadata": {}
        }
      ]
    },
    {
      "cell_type": "code",
      "source": [
        "img = get_image()\n",
        "#Initialize numpy array with an image\n",
        "image_to_npy = np.array(img)\n",
        "print(f'Type: {type(image_to_npy)}\\nShape: {image_to_npy.shape}')"
      ],
      "metadata": {
        "colab": {
          "base_uri": "https://localhost:8080/",
          "height": 258
        },
        "id": "tjXKvkJKHkIJ",
        "outputId": "c8888c1a-6fea-4399-9b25-cc32b285b698"
      },
      "execution_count": null,
      "outputs": [
        {
          "output_type": "display_data",
          "data": {
            "application/javascript": [
              "\n",
              "  for (rule of document.styleSheets[0].cssRules){\n",
              "    if (rule.selectorText=='body') {\n",
              "      rule.style.fontSize = '22px'\n",
              "      break\n",
              "    }  }\n",
              "  "
            ],
            "text/plain": [
              "<IPython.core.display.Javascript object>"
            ]
          },
          "metadata": {}
        },
        {
          "output_type": "stream",
          "name": "stdout",
          "text": [
            "Type: <class 'numpy.ndarray'>\n",
            "Shape: (540, 1200, 3)\n"
          ]
        },
        {
          "output_type": "display_data",
          "data": {
            "image/png": "[encoded data removed]",
            "text/plain": [
              "<Figure size 432x288 with 1 Axes>"
            ]
          },
          "metadata": {
            "needs_background": "light"
          }
        }
      ]
    },
    {
      "cell_type": "markdown",
      "source": [
        "![image.png](data:image/png;base64,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)"
      ],
      "metadata": {
        "id": "Ff0kXV7DMXCn"
      }
    },
    {
      "cell_type": "code",
      "source": [
        "import matplotlib.pyplot as plt\n",
        "\n",
        "random_array = np.random.randint(0,255,size=(4,4,3))\n",
        "print(random_array.shape)\n",
        "print(random_array)\n",
        "plt.imshow(random_array)"
      ],
      "metadata": {
        "colab": {
          "base_uri": "https://localhost:8080/",
          "height": 825
        },
        "id": "6vDfkdJf1Eur",
        "outputId": "ecdcfdd0-99b1-4292-bbde-30a8a378076c"
      },
      "execution_count": null,
      "outputs": [
        {
          "output_type": "display_data",
          "data": {
            "application/javascript": [
              "\n",
              "  for (rule of document.styleSheets[0].cssRules){\n",
              "    if (rule.selectorText=='body') {\n",
              "      rule.style.fontSize = '22px'\n",
              "      break\n",
              "    }  }\n",
              "  "
            ],
            "text/plain": [
              "<IPython.core.display.Javascript object>"
            ]
          },
          "metadata": {}
        },
        {
          "output_type": "stream",
          "name": "stdout",
          "text": [
            "[[[241 122 247]\n",
            "  [226  11 217]\n",
            "  [ 26 190 143]\n",
            "  [ 70 194 249]]\n",
            "\n",
            " [[128 246  69]\n",
            "  [ 89 249  48]\n",
            "  [ 33 184 186]\n",
            "  [220 206 126]]\n",
            "\n",
            " [[180  90  72]\n",
            "  [198 218 213]\n",
            "  [ 75  25 100]\n",
            "  [147 127  25]]\n",
            "\n",
            " [[113 160 230]\n",
            "  [ 92   1  64]\n",
            "  [131 143 162]\n",
            "  [ 30  17 224]]]\n"
          ]
        },
        {
          "output_type": "execute_result",
          "data": {
            "text/plain": [
              "<matplotlib.image.AxesImage at 0x7fd319839210>"
            ]
          },
          "metadata": {},
          "execution_count": 9
        },
        {
          "output_type": "display_data",
          "data": {
            "image/png": "[encoded data removed]",
            "text/plain": [
              "<Figure size 432x288 with 1 Axes>"
            ]
          },
          "metadata": {
            "needs_background": "light"
          }
        }
      ]
    },
    {
      "cell_type": "markdown",
      "source": [
        "# 3) Generate ndarray"
      ],
      "metadata": {
        "id": "AxOHwMdi3wBs"
      }
    },
    {
      "cell_type": "markdown",
      "source": [
        "![image.png](data:image/png;base64,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)"
      ],
      "metadata": {
        "id": "D_QnF6V7RcCw"
      }
    },
    {
      "cell_type": "markdown",
      "source": [
        "First, Lets see how to check the dimention of ndarray"
      ],
      "metadata": {
        "id": "L3_rMkvB4nBx"
      }
    },
    {
      "cell_type": "markdown",
      "source": [
        "\n",
        "$$\n",
        "\\left[\\begin{array}{ll}\n",
        "1_{0,0} & 2_{0,1} \\\\\n",
        "3_{1,0} & 4_{1,1} \\\\\n",
        "5_{2,0} & 6_{2,1}\n",
        "\\end{array}\\right]\n",
        "$$"
      ],
      "metadata": {
        "id": "WQe2aWmWZgXn"
      }
    },
    {
      "cell_type": "markdown",
      "source": [
        "Shape: (3,2)"
      ],
      "metadata": {
        "id": "2UH4VgL1Zwcj"
      }
    },
    {
      "cell_type": "code",
      "source": [
        "#Get shape of ndarray\n",
        "a = np.array([[1,2,3],[3,4,5]])\n",
        "print('nparray a,\\n',a)\n",
        "print('Shape of a: ',a.shape)"
      ],
      "metadata": {
        "colab": {
          "base_uri": "https://localhost:8080/"
        },
        "id": "-v4Ame5j4vr5",
        "outputId": "9644b343-3a02-4cc2-bf0a-98ceaa3d02e6"
      },
      "execution_count": null,
      "outputs": [
        {
          "output_type": "stream",
          "name": "stdout",
          "text": [
            "nparray a,\n",
            " [[1 2 3]\n",
            " [3 4 5]]\n",
            "Shape of a:  (2, 3)\n"
          ]
        }
      ]
    },
    {
      "cell_type": "code",
      "source": [
        "np.random.seed(seed=2022)\n",
        "# Random int with range 2-10 and size (2,3)\n",
        "print(f'Random int with range 2-10 and size (2,3):\\n {np.random.randint(2,10,size=(2,3))}\\n') \n",
        "\n",
        "# ndarray filled with Zeros \n",
        "print(f'Initialize Zeros: \\n{np.ones((2,2),dtype=int)}\\n')\n",
        "#PS: Can generate numbers from distribution(like normal dist), Identity, and many more"
      ],
      "metadata": {
        "colab": {
          "base_uri": "https://localhost:8080/",
          "height": 239
        },
        "id": "WMo-iscLSKDI",
        "outputId": "90995954-6988-4f34-8d8b-3e8cfdc273bb"
      },
      "execution_count": null,
      "outputs": [
        {
          "output_type": "display_data",
          "data": {
            "application/javascript": [
              "\n",
              "  for (rule of document.styleSheets[0].cssRules){\n",
              "    if (rule.selectorText=='body') {\n",
              "      rule.style.fontSize = '22px'\n",
              "      break\n",
              "    }  }\n",
              "  "
            ],
            "text/plain": [
              "<IPython.core.display.Javascript object>"
            ]
          },
          "metadata": {}
        },
        {
          "output_type": "stream",
          "name": "stdout",
          "text": [
            "Random int with range 2-10 and size (2,3):\n",
            " [[7 6 7]\n",
            " [2 3 3]]\n",
            "\n",
            "Initialize Zeros: \n",
            "[[1 1]\n",
            " [1 1]]\n",
            "\n"
          ]
        }
      ]
    },
    {
      "cell_type": "code",
      "source": [
        "# Random int with range 2-10 and size (2,3)\n",
        "\n",
        "print(f'Random int with range 2-10 and size (2,3):\\n {np.random.randint(2,10,size=(2,3))}\\n') \n",
        "\n",
        "\n",
        "# ndarray filled with Zeros \n",
        "print(f'Initialize Zeros: \\n{np.zeros(shape=(2,3))}\\n')\n",
        "\n",
        "# ndarray filled with Ones\n",
        "print(f'Initialize Ones: \\n{np.ones(shape=(2,3),dtype=int)}\\n') # Note the argument is shape so double brackets\n",
        "\n",
        "#PS: Can generate numbers from distribution(like normal dist), Identity, and many more"
      ],
      "metadata": {
        "id": "AihPSGyS3vFV",
        "colab": {
          "base_uri": "https://localhost:8080/",
          "height": 351
        },
        "outputId": "706df471-2815-417f-eceb-0b63732dbcfe"
      },
      "execution_count": null,
      "outputs": [
        {
          "output_type": "display_data",
          "data": {
            "application/javascript": [
              "\n",
              "  for (rule of document.styleSheets[0].cssRules){\n",
              "    if (rule.selectorText=='body') {\n",
              "      rule.style.fontSize = '22px'\n",
              "      break\n",
              "    }  }\n",
              "  "
            ],
            "text/plain": [
              "<IPython.core.display.Javascript object>"
            ]
          },
          "metadata": {}
        },
        {
          "output_type": "stream",
          "name": "stdout",
          "text": [
            "Random int with range 2-10 and size (2,3):\n",
            " [[2 9 2]\n",
            " [4 2 2]]\n",
            "\n",
            "Initialize Zeros: \n",
            "[[0. 0. 0.]\n",
            " [0. 0. 0.]]\n",
            "\n",
            "Initialize Ones: \n",
            "[[1 1 1]\n",
            " [1 1 1]]\n",
            "\n"
          ]
        }
      ]
    },
    {
      "cell_type": "code",
      "source": [
        "# Arrange a numpy array\n",
        "print(f'Arrange: {np.arange(3,10)}')\n",
        "#  evenly spaced numbers over a specified interval\n",
        "print(f'LineSpace: {np.linspace(2.0, 10.0, num=5)}')"
      ],
      "metadata": {
        "id": "XWhem5Gz48iv",
        "colab": {
          "base_uri": "https://localhost:8080/"
        },
        "outputId": "c27f66f1-1e65-4a3c-a45f-6c25eefa11f1"
      },
      "execution_count": null,
      "outputs": [
        {
          "output_type": "stream",
          "name": "stdout",
          "text": [
            "Arrange: [3 4 5 6 7 8 9]\n",
            "LineSpace: [ 2.  4.  6.  8. 10.]\n"
          ]
        }
      ]
    },
    {
      "cell_type": "code",
      "source": [
        "plt.imshow(np.random.randint(0,255,size=(28,28,3)))"
      ],
      "metadata": {
        "id": "v3sT9aQ34cg9",
        "colab": {
          "base_uri": "https://localhost:8080/",
          "height": 282
        },
        "outputId": "405f3a86-b424-4c21-e4b1-47900d88525c"
      },
      "execution_count": null,
      "outputs": [
        {
          "output_type": "execute_result",
          "data": {
            "text/plain": [
              "<matplotlib.image.AxesImage at 0x7f92baedb150>"
            ]
          },
          "metadata": {},
          "execution_count": 18
        },
        {
          "output_type": "display_data",
          "data": {
            "image/png": "[encoded data removed]",
            "text/plain": [
              "<Figure size 432x288 with 1 Axes>"
            ]
          },
          "metadata": {
            "needs_background": "light"
          }
        }
      ]
    },
    {
      "cell_type": "code",
      "source": [
        "arr = np.zeros(shape=(28,28))#genereate zeros nd array\n",
        "arr[::2,1::2] =255\n",
        "arr[1::2,::2] = 255\n",
        "plt.imshow(arr,cmap='gray')"
      ],
      "metadata": {
        "colab": {
          "base_uri": "https://localhost:8080/",
          "height": 282
        },
        "id": "-o0wRg7xiRC6",
        "outputId": "60e3c2c0-b4dd-474e-90ec-886b1cb8de9a"
      },
      "execution_count": null,
      "outputs": [
        {
          "output_type": "execute_result",
          "data": {
            "text/plain": [
              "<matplotlib.image.AxesImage at 0x7f92ba770e10>"
            ]
          },
          "metadata": {},
          "execution_count": 34
        },
        {
          "output_type": "display_data",
          "data": {
            "image/png": "[encoded data removed]",
            "text/plain": [
              "<Figure size 432x288 with 1 Axes>"
            ]
          },
          "metadata": {
            "needs_background": "light"
          }
        }
      ]
    },
    {
      "cell_type": "markdown",
      "source": [
        "# 4) Indexing ndarray"
      ],
      "metadata": {
        "id": "YZlChSN154XR"
      }
    },
    {
      "cell_type": "code",
      "source": [
        "np.random.seed(seed=2022)#For Reproducibility\n",
        "npy_x = np.random.randint(10,size=(3,4))\n",
        "print(f'{npy_x}\\nShape:{npy_x.shape}')"
      ],
      "metadata": {
        "colab": {
          "base_uri": "https://localhost:8080/",
          "height": 128
        },
        "id": "_6AIakC9HTCD",
        "outputId": "832eb860-1ecd-4053-cf97-641dd4e71d08"
      },
      "execution_count": null,
      "outputs": [
        {
          "output_type": "display_data",
          "data": {
            "application/javascript": [
              "\n",
              "  for (rule of document.styleSheets[0].cssRules){\n",
              "    if (rule.selectorText=='body') {\n",
              "      rule.style.fontSize = '30px'\n",
              "      break\n",
              "    }\n",
              "  }\n",
              "  "
            ],
            "text/plain": [
              "<IPython.core.display.Javascript object>"
            ]
          },
          "metadata": {}
        },
        {
          "output_type": "display_data",
          "data": {
            "application/javascript": [
              "\n",
              "  for (rule of document.styleSheets[0].cssRules){\n",
              "    if (rule.selectorText=='body') {\n",
              "      rule.style.fontSize = '25px'\n",
              "      break\n",
              "    }\n",
              "  }\n",
              "  "
            ],
            "text/plain": [
              "<IPython.core.display.Javascript object>"
            ]
          },
          "metadata": {}
        },
        {
          "output_type": "display_data",
          "data": {
            "application/javascript": [
              "\n",
              "  for (rule of document.styleSheets[0].cssRules){\n",
              "    if (rule.selectorText=='body') {\n",
              "      rule.style.fontSize = '22px'\n",
              "      break\n",
              "    }\n",
              "  }\n",
              "  "
            ],
            "text/plain": [
              "<IPython.core.display.Javascript object>"
            ]
          },
          "metadata": {}
        },
        {
          "output_type": "display_data",
          "data": {
            "application/javascript": [
              "\n",
              "  for (rule of document.styleSheets[0].cssRules){\n",
              "    if (rule.selectorText=='body') {\n",
              "      rule.style.fontSize = '22px'\n",
              "      break\n",
              "    }\n",
              "  }\n",
              "  "
            ],
            "text/plain": [
              "<IPython.core.display.Javascript object>"
            ]
          },
          "metadata": {}
        },
        {
          "output_type": "stream",
          "name": "stdout",
          "text": [
            "[[0 1 1 0]\n",
            " [7 8 2 8]\n",
            " [0 5 9 1]]\n",
            "Shape:(3, 4)\n"
          ]
        }
      ]
    },
    {
      "cell_type": "markdown",
      "source": [
        "## $A=\\left[\\begin{array}{llll}a_{00} & a_{01} & a_{02} & a_{03} \\\\ a_{10} & a_{11} & a_{12} & a_{13} \\\\ a_{20} & a_{21} & a_{22} & a_{23}\\end{array}\\right]=\\left[\\begin{array}{llll}0 & 1 & 1 & 0 \\\\ 7 & 8 & 2 & 8 \\\\ 0 & 5 & 9 & 1\\end{array}\\right]$"
      ],
      "metadata": {
        "id": "1xCBHJIzJpH0"
      }
    },
    {
      "cell_type": "markdown",
      "source": [
        "### Access a specific element"
      ],
      "metadata": {
        "id": "DspnksqLLwUp"
      }
    },
    {
      "cell_type": "code",
      "source": [
        "i,j = 2,3\n",
        "print(f'Method A[2,3](2nd row,third col): {npy_x[2,3]}')\n",
        "print(f'Method A[2][3](2nd row,third col): {npy_x[2][3]}')\n",
        "print(f'Negative Indexing can also be used A[-2,-3](2nd last row,third last col): {npy_x[-2][-3]}')"
      ],
      "metadata": {
        "colab": {
          "base_uri": "https://localhost:8080/",
          "height": 100
        },
        "id": "g7XvrKDJHgNr",
        "outputId": "fb02fa36-3a74-4a66-93fa-45ed821fff39"
      },
      "execution_count": null,
      "outputs": [
        {
          "output_type": "display_data",
          "data": {
            "application/javascript": [
              "\n",
              "  for (rule of document.styleSheets[0].cssRules){\n",
              "    if (rule.selectorText=='body') {\n",
              "      rule.style.fontSize = '30px'\n",
              "      break\n",
              "    }\n",
              "  }\n",
              "  "
            ],
            "text/plain": [
              "<IPython.core.display.Javascript object>"
            ]
          },
          "metadata": {}
        },
        {
          "output_type": "display_data",
          "data": {
            "application/javascript": [
              "\n",
              "  for (rule of document.styleSheets[0].cssRules){\n",
              "    if (rule.selectorText=='body') {\n",
              "      rule.style.fontSize = '25px'\n",
              "      break\n",
              "    }\n",
              "  }\n",
              "  "
            ],
            "text/plain": [
              "<IPython.core.display.Javascript object>"
            ]
          },
          "metadata": {}
        },
        {
          "output_type": "display_data",
          "data": {
            "application/javascript": [
              "\n",
              "  for (rule of document.styleSheets[0].cssRules){\n",
              "    if (rule.selectorText=='body') {\n",
              "      rule.style.fontSize = '22px'\n",
              "      break\n",
              "    }\n",
              "  }\n",
              "  "
            ],
            "text/plain": [
              "<IPython.core.display.Javascript object>"
            ]
          },
          "metadata": {}
        },
        {
          "output_type": "display_data",
          "data": {
            "application/javascript": [
              "\n",
              "  for (rule of document.styleSheets[0].cssRules){\n",
              "    if (rule.selectorText=='body') {\n",
              "      rule.style.fontSize = '22px'\n",
              "      break\n",
              "    }\n",
              "  }\n",
              "  "
            ],
            "text/plain": [
              "<IPython.core.display.Javascript object>"
            ]
          },
          "metadata": {}
        },
        {
          "output_type": "stream",
          "name": "stdout",
          "text": [
            "Method A[2,3](2nd row,third col): 1\n",
            "Method A[2][3](2nd row,third col): 1\n",
            "Negative Indexing can also be used A[-2,-3](2nd last row,third last col): 8\n"
          ]
        }
      ]
    },
    {
      "cell_type": "markdown",
      "source": [
        "### Access a chunk of the ndarray"
      ],
      "metadata": {
        "id": "hJ9DGm2pN7Ri"
      }
    },
    {
      "cell_type": "code",
      "source": [
        "print(f'ith row A[1]: {npy_x[1]} \\n')\n",
        "print(f'Whole ndarray A[:]: \\n{npy_x[:]} \\n')\n",
        "print(f'All row of Second column A[:,1]: {npy_x[:,1]}\\n')\n",
        "print(f'First 2 row and column: A[:2,:2]: \\n{npy_x[:2,:2]}\\n')\n",
        "print(f'Negative indexing(Change of Steping on column index) : A[:2,-1:-3:-1]: \\n{npy_x[:2,-1:-2:-1]}\\n')"
      ],
      "metadata": {
        "colab": {
          "base_uri": "https://localhost:8080/",
          "height": 489
        },
        "id": "yo5J0WMQLqkT",
        "outputId": "c84d2ae5-f041-4544-8193-54bacd5fff7d"
      },
      "execution_count": null,
      "outputs": [
        {
          "output_type": "display_data",
          "data": {
            "application/javascript": [
              "\n",
              "  for (rule of document.styleSheets[0].cssRules){\n",
              "    if (rule.selectorText=='body') {\n",
              "      rule.style.fontSize = '30px'\n",
              "      break\n",
              "    }\n",
              "  }\n",
              "  "
            ],
            "text/plain": [
              "<IPython.core.display.Javascript object>"
            ]
          },
          "metadata": {}
        },
        {
          "output_type": "display_data",
          "data": {
            "application/javascript": [
              "\n",
              "  for (rule of document.styleSheets[0].cssRules){\n",
              "    if (rule.selectorText=='body') {\n",
              "      rule.style.fontSize = '25px'\n",
              "      break\n",
              "    }\n",
              "  }\n",
              "  "
            ],
            "text/plain": [
              "<IPython.core.display.Javascript object>"
            ]
          },
          "metadata": {}
        },
        {
          "output_type": "display_data",
          "data": {
            "application/javascript": [
              "\n",
              "  for (rule of document.styleSheets[0].cssRules){\n",
              "    if (rule.selectorText=='body') {\n",
              "      rule.style.fontSize = '22px'\n",
              "      break\n",
              "    }\n",
              "  }\n",
              "  "
            ],
            "text/plain": [
              "<IPython.core.display.Javascript object>"
            ]
          },
          "metadata": {}
        },
        {
          "output_type": "display_data",
          "data": {
            "application/javascript": [
              "\n",
              "  for (rule of document.styleSheets[0].cssRules){\n",
              "    if (rule.selectorText=='body') {\n",
              "      rule.style.fontSize = '22px'\n",
              "      break\n",
              "    }\n",
              "  }\n",
              "  "
            ],
            "text/plain": [
              "<IPython.core.display.Javascript object>"
            ]
          },
          "metadata": {}
        },
        {
          "output_type": "stream",
          "name": "stdout",
          "text": [
            "ith row A[1]: [7 8 2 8] \n",
            "\n",
            "Whole ndarray A[:]: \n",
            "[[0 1 1 0]\n",
            " [7 8 2 8]\n",
            " [0 5 9 1]] \n",
            "\n",
            "All row of Second column A[:,1]: [1 8 5]\n",
            "\n",
            "First 2 row and column: A[:2,:2]: \n",
            "[[0 1]\n",
            " [7 8]]\n",
            "\n",
            "Negative indexing(Change of Steping on column index) : A[:2,-1:-3:-1]: \n",
            "[[0]\n",
            " [8]]\n",
            "\n"
          ]
        }
      ]
    },
    {
      "cell_type": "code",
      "source": [
        "img = get_image()\n",
        "#Initialize numpy array with an image\n",
        "image_to_npy = np.array(img)\n",
        "print(f'Type: {type(image_to_npy)}\\nShape: {image_to_npy.shape}')"
      ],
      "metadata": {
        "colab": {
          "base_uri": "https://localhost:8080/",
          "height": 258
        },
        "id": "nQDlGycVH5f0",
        "outputId": "ae2bc8ee-6181-4e89-e8ae-a53695497556"
      },
      "execution_count": null,
      "outputs": [
        {
          "output_type": "display_data",
          "data": {
            "application/javascript": [
              "\n",
              "  for (rule of document.styleSheets[0].cssRules){\n",
              "    if (rule.selectorText=='body') {\n",
              "      rule.style.fontSize = '22px'\n",
              "      break\n",
              "    }  }\n",
              "  "
            ],
            "text/plain": [
              "<IPython.core.display.Javascript object>"
            ]
          },
          "metadata": {}
        },
        {
          "output_type": "stream",
          "name": "stdout",
          "text": [
            "Type: <class 'numpy.ndarray'>\n",
            "Shape: (540, 1200, 3)\n"
          ]
        },
        {
          "output_type": "display_data",
          "data": {
            "image/png": "[encoded data removed]",
            "text/plain": [
              "<Figure size 432x288 with 1 Axes>"
            ]
          },
          "metadata": {
            "needs_background": "light"
          }
        }
      ]
    },
    {
      "cell_type": "code",
      "source": [
        "cropped_image = image_to_npy[50:500,50:450,:]"
      ],
      "metadata": {
        "id": "gTZInkl_apJj",
        "colab": {
          "base_uri": "https://localhost:8080/",
          "height": 17
        },
        "outputId": "b6850e2e-9dc3-410b-e57d-312242c7c9ef"
      },
      "execution_count": null,
      "outputs": [
        {
          "output_type": "display_data",
          "data": {
            "application/javascript": [
              "\n",
              "  for (rule of document.styleSheets[0].cssRules){\n",
              "    if (rule.selectorText=='body') {\n",
              "      rule.style.fontSize = '22px'\n",
              "      break\n",
              "    }  }\n",
              "  "
            ],
            "text/plain": [
              "<IPython.core.display.Javascript object>"
            ]
          },
          "metadata": {}
        }
      ]
    },
    {
      "cell_type": "code",
      "source": [
        "plt.imshow(cropped_image)"
      ],
      "metadata": {
        "colab": {
          "base_uri": "https://localhost:8080/",
          "height": 296
        },
        "id": "0wGXMBHpQkl9",
        "outputId": "571f5cb4-12b4-402f-aea6-b90ab2dad2f4"
      },
      "execution_count": null,
      "outputs": [
        {
          "output_type": "display_data",
          "data": {
            "application/javascript": [
              "\n",
              "  for (rule of document.styleSheets[0].cssRules){\n",
              "    if (rule.selectorText=='body') {\n",
              "      rule.style.fontSize = '22px'\n",
              "      break\n",
              "    }  }\n",
              "  "
            ],
            "text/plain": [
              "<IPython.core.display.Javascript object>"
            ]
          },
          "metadata": {}
        },
        {
          "output_type": "execute_result",
          "data": {
            "text/plain": [
              "<matplotlib.image.AxesImage at 0x7fd71ede69d0>"
            ]
          },
          "metadata": {},
          "execution_count": 50
        },
        {
          "output_type": "display_data",
          "data": {
            "image/png": "[encoded data removed]",
            "text/plain": [
              "<Figure size 432x288 with 1 Axes>"
            ]
          },
          "metadata": {
            "needs_background": "light"
          }
        }
      ]
    },
    {
      "cell_type": "code",
      "source": [
        "print('Red Intensity:\\n',cropped_image[0:2,0:2,0])\n",
        "print('Green Intensity:\\n',cropped_image[0:2,0:2,1])\n",
        "print('Blue Intensity:\\n',cropped_image[0:2,0:2,2])"
      ],
      "metadata": {
        "colab": {
          "base_uri": "https://localhost:8080/",
          "height": 267
        },
        "id": "uiqa0_i5m_uo",
        "outputId": "96fcea3f-6ca8-4313-c8fd-8d09b5f436f9"
      },
      "execution_count": null,
      "outputs": [
        {
          "output_type": "display_data",
          "data": {
            "application/javascript": [
              "\n",
              "  for (rule of document.styleSheets[0].cssRules){\n",
              "    if (rule.selectorText=='body') {\n",
              "      rule.style.fontSize = '22px'\n",
              "      break\n",
              "    }  }\n",
              "  "
            ],
            "text/plain": [
              "<IPython.core.display.Javascript object>"
            ]
          },
          "metadata": {}
        },
        {
          "output_type": "stream",
          "name": "stdout",
          "text": [
            "Red Intensity:\n",
            " [[0 0]\n",
            " [0 0]]\n",
            "Green Intensity:\n",
            " [[0 0]\n",
            " [0 0]]\n",
            "Blue Intensity:\n",
            " [[0 0]\n",
            " [0 0]]\n"
          ]
        }
      ]
    },
    {
      "cell_type": "code",
      "source": [
        "cropped_image[0:50,0:50,0] = 100\n",
        "cropped_image[0:50,0:50,1] = 150\n",
        "cropped_image[0:50,0:50,2] = 150\n",
        " "
      ],
      "metadata": {
        "colab": {
          "base_uri": "https://localhost:8080/",
          "height": 17
        },
        "id": "g7SATcBInMlH",
        "outputId": "712b6feb-cb34-4876-a7b0-0adb9154b1d7"
      },
      "execution_count": null,
      "outputs": [
        {
          "output_type": "display_data",
          "data": {
            "application/javascript": [
              "\n",
              "  for (rule of document.styleSheets[0].cssRules){\n",
              "    if (rule.selectorText=='body') {\n",
              "      rule.style.fontSize = '22px'\n",
              "      break\n",
              "    }  }\n",
              "  "
            ],
            "text/plain": [
              "<IPython.core.display.Javascript object>"
            ]
          },
          "metadata": {}
        }
      ]
    },
    {
      "cell_type": "code",
      "source": [
        "#cropped_image[0:100,0:100,0] = 255\n",
        "plt.imshow(cropped_image)"
      ],
      "metadata": {
        "id": "iFsXKmmGMSiT",
        "colab": {
          "base_uri": "https://localhost:8080/",
          "height": 296
        },
        "outputId": "ef9186a6-bc11-46ed-9a83-7cbf0c9d099d"
      },
      "execution_count": null,
      "outputs": [
        {
          "output_type": "display_data",
          "data": {
            "application/javascript": [
              "\n",
              "  for (rule of document.styleSheets[0].cssRules){\n",
              "    if (rule.selectorText=='body') {\n",
              "      rule.style.fontSize = '22px'\n",
              "      break\n",
              "    }  }\n",
              "  "
            ],
            "text/plain": [
              "<IPython.core.display.Javascript object>"
            ]
          },
          "metadata": {}
        },
        {
          "output_type": "execute_result",
          "data": {
            "text/plain": [
              "<matplotlib.image.AxesImage at 0x7fd71f62c250>"
            ]
          },
          "metadata": {},
          "execution_count": 59
        },
        {
          "output_type": "display_data",
          "data": {
            "image/png": "[encoded data removed]",
            "text/plain": [
              "<Figure size 432x288 with 1 Axes>"
            ]
          },
          "metadata": {
            "needs_background": "light"
          }
        }
      ]
    },
    {
      "cell_type": "code",
      "source": [
        ""
      ],
      "metadata": {
        "id": "_PMQm_hxH4fe"
      },
      "execution_count": null,
      "outputs": []
    },
    {
      "cell_type": "markdown",
      "source": [
        "acesss a small block or point and change its color."
      ],
      "metadata": {
        "id": "c0oqYOTACea5"
      }
    },
    {
      "cell_type": "markdown",
      "source": [
        ""
      ],
      "metadata": {
        "id": "MJoaOFiPCeA-"
      }
    }
  ]
}